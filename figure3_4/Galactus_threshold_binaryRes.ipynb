{
 "cells": [
  {
   "cell_type": "markdown",
   "metadata": {},
   "source": [
    "# normality and significance test for threshold distribution \n",
    "\n",
    "    ## for Galactus epineural trials\n",
    "    ## for Galactus penetrating trials\n",
    "\n",
    "        ### does the binary search resolution affect threshold"
   ]
  },
  {
   "cell_type": "code",
   "execution_count": 13,
   "metadata": {},
   "outputs": [],
   "source": [
    "import sys\n",
    "sys.path.append(\"R:\\\\users\\\\amn69\\\\Projects\\\\cat\\\\selectivity\\\\surface paper\\\\v2018\")\n",
    "import helperFcns as hf\n",
    "import seaborn as sns\n",
    "\n",
    "# binarySearchResolutionbySession :\n",
    "#    'Electro':{20:1, 22:1, 26:1, 27:1, 28:1, 32:1},\n",
    "#    'Freeze':{55:1, 56:1, 59:1, 60:1, 61:1, 63:1, 68:1, 999:1},\n",
    "#    'Galactus':{15:1, 30:1, 40:1, 41:10, 48:10, 57:10,91:1, 94:1.5, 97:1.5, 98:5},\n",
    "#    'Hobgoblin':{6:5, 7:5, 10:5, 12:5, 14:5, 16:5, 20:5, 23:5,47:3, 49:3, 52:3},\n",
    "#    'HA02':{2:5, 3:5, 4:5},\n",
    "#    'HA04':{2:5, 3:5, 4:5}"
   ]
  },
  {
   "cell_type": "code",
   "execution_count": 24,
   "metadata": {},
   "outputs": [
    {
     "data": {
      "text/plain": [
       "<matplotlib.axes._subplots.AxesSubplot at 0x1577d970>"
      ]
     },
     "execution_count": 24,
     "metadata": {},
     "output_type": "execute_result"
    },
    {
     "data": {
      "image/png": "[encoded data removed]",
      "text/plain": [
       "<Figure size 432x288 with 1 Axes>"
      ]
     },
     "metadata": {},
     "output_type": "display_data"
    }
   ],
   "source": [
    "# epineural sessions\n",
    "highResThresh = []\n",
    "for sesh in [15,30,40]:\n",
    "    seshThresh = hf.thresholdPerCuff('Galactus', sesh, ['BiFem'], True)\n",
    "    for iKey in seshThresh.keys():\n",
    "        highResThresh.extend(seshThresh[iKey].values())\n",
    "\n",
    "lowResThresh = []\n",
    "for sesh in [41,48,57]:\n",
    "    seshThresh = hf.thresholdPerCuff('Galactus', sesh, ['BiFem'], True)\n",
    "    for iKey in seshThresh.keys():\n",
    "        lowResThresh.extend(seshThresh[iKey].values())\n",
    "        \n",
    "sns.distplot(lowResThresh,bins=10,kde = False)\n",
    "sns.distplot(highResThresh,bins=10,kde = False)"
   ]
  },
  {
   "cell_type": "code",
   "execution_count": 19,
   "metadata": {},
   "outputs": [
    {
     "name": "stdout",
     "output_type": "stream",
     "text": [
      "NormaltestResult(statistic=5.7238978259602735, pvalue=0.057157257125481246)\n",
      "NormaltestResult(statistic=418.82431362512267, pvalue=1.130982416211463e-91)\n",
      "0.011927341863999418\n",
      "The differences between the medians are not statistically significant\n"
     ]
    }
   ],
   "source": [
    "from scipy.stats import ttest_ind\n",
    "from scipy.stats import kruskal\n",
    "from scipy.stats import normaltest\n",
    "\n",
    "# print len(highResThresh), len(lowResThresh)\n",
    "\n",
    "print normaltest(lowResThresh)\n",
    "print normaltest(highResThresh)\n",
    "\n",
    "k, p = kruskal(highResThresh, lowResThresh)\n",
    "print p\n",
    "\n",
    "alpha = 0.001\n",
    "if p > alpha:\n",
    "    print('The differences between the medians are not statistically significant')\n",
    "else:\n",
    "    print('Statistically significant (reject H0)')\n"
   ]
  },
  {
   "cell_type": "code",
   "execution_count": 27,
   "metadata": {},
   "outputs": [
    {
     "data": {
      "text/plain": [
       "<matplotlib.axes._subplots.AxesSubplot at 0x159ccb10>"
      ]
     },
     "execution_count": 27,
     "metadata": {},
     "output_type": "execute_result"
    },
    {
     "data": {
      "image/png": "[encoded data removed]",
      "text/plain": [
       "<Figure size 432x288 with 1 Axes>"
      ]
     },
     "metadata": {},
     "output_type": "display_data"
    }
   ],
   "source": [
    "# penetrating sessions\n",
    "highResThresh_penetrating = []\n",
    "for sesh in [94,97]:\n",
    "    seshThresh = hf.thresholdPerCuff('Galactus', sesh, ['BiFem'], True)\n",
    "    for iKey in seshThresh.keys():\n",
    "        highResThresh_penetrating.extend(seshThresh[iKey].values())\n",
    "        \n",
    "lowResThresh_penetrating = []\n",
    "for sesh in [98]:\n",
    "    seshThresh = hf.thresholdPerCuff('Galactus', sesh, ['BiFem'], True)\n",
    "    for iKey in seshThresh.keys():\n",
    "            lowResThresh_penetrating.extend(seshThresh[iKey].values())\n",
    "\n",
    "sns.distplot(lowResThresh_penetrating,bins=10,kde = False)\n",
    "sns.distplot(highResThresh_penetrating,bins=10,kde = False)"
   ]
  },
  {
   "cell_type": "code",
   "execution_count": 28,
   "metadata": {},
   "outputs": [
    {
     "name": "stdout",
     "output_type": "stream",
     "text": [
      "NormaltestResult(statistic=18.675608857130687, pvalue=8.803250571507709e-05)\n",
      "NormaltestResult(statistic=1253.930050040018, pvalue=5.158807083333153e-273)\n",
      "0.4214081101451371\n",
      "The differences between the medians are not statistically significant\n"
     ]
    }
   ],
   "source": [
    "print normaltest(lowResThresh_penetrating)\n",
    "print normaltest(highResThresh_penetrating)\n",
    "\n",
    "k, p2 = kruskal(highResThresh_penetrating, lowResThresh_penetrating)\n",
    "print p2\n",
    "alpha = 0.001\n",
    "if p2 > alpha:\n",
    "    print('The differences between the medians are not statistically significant')\n",
    "else:\n",
    "    print('Statistically significant (reject H0)')"
   ]
  }
 ],
 "metadata": {
  "kernelspec": {
   "display_name": "Python 2",
   "language": "python",
   "name": "python2"
  },
  "language_info": {
   "codemirror_mode": {
    "name": "ipython",
    "version": 2
   },
   "file_extension": ".py",
   "mimetype": "text/x-python",
   "name": "python",
   "nbconvert_exporter": "python",
   "pygments_lexer": "ipython2",
   "version": "2.7.13"
  }
 },
 "nbformat": 4,
 "nbformat_minor": 2
}
