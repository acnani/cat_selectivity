{
 "cells": [
  {
   "cell_type": "code",
   "execution_count": 49,
   "metadata": {},
   "outputs": [],
   "source": [
    "import pandas as pd\n",
    "from scipy.stats import ttest_ind\n",
    "from scipy.stats import kruskal\n",
    "from scipy.stats import normaltest\n",
    "import numpy as np\n",
    "import seaborn as sns\n",
    "import matplotlib.pyplot as plt\n",
    "from scikit_posthocs import posthoc_dunn, posthoc_conover\n",
    "plt.rcParams['svg.fonttype'] = 'none'\n",
    "\n",
    "# epineuralDF = pd.read_csv(\"epineural\\\\selectiveDF.csv\")\n",
    "# epineuralDF.loc[epineuralDF['binarySearchRes']==0.4,'binarySearchRes'] = 0.41\n",
    "# epiTH = epineuralDF['Threshold (nC)']\n",
    "# epiDR = epineuralDF['Dynamic Range (nC)']\n",
    "\n",
    "\n",
    "epineuralDF = pd.read_csv(\"selectiveDF.csv\")\n",
    "epiTH = epineuralDF['Threshold (nC)']\n",
    "epiDR = epineuralDF['Dynamic Range (nC)']"
   ]
  },
  {
   "cell_type": "code",
   "execution_count": 54,
   "metadata": {},
   "outputs": [],
   "source": [
    "v1TH = epineuralDF[(epineuralDF['subject'] == 'Galactus') | (epineuralDF['subject'] == 'Hobgoblin')]['Threshold (nC)']\n",
    "v2TH = epineuralDF[(epineuralDF['subject'] == 'HA02') | (epineuralDF['subject'] == 'HA04')]['Threshold (nC)']\n",
    "\n",
    "v1DR = epineuralDF[(epineuralDF['subject'] == 'Galactus') | (epineuralDF['subject'] == 'Hobgoblin')]['Dynamic Range (nC)']\n",
    "v2DR = epineuralDF[(epineuralDF['subject'] == 'HA02') | (epineuralDF['subject'] == 'HA04')]['Dynamic Range (nC)']"
   ]
  },
  {
   "cell_type": "code",
   "execution_count": 55,
   "metadata": {},
   "outputs": [
    {
     "name": "stdout",
     "output_type": "stream",
     "text": [
      "v1TH may be normal\n",
      "v2TH may be normal\n"
     ]
    }
   ],
   "source": [
    "# threshold normality\n",
    "alpha = 0.01\n",
    "k, p1 = normaltest(v1TH) # len(penTH)\n",
    "\n",
    "if p1 < alpha:  # null hypothesis: x comes from a normal distribution\n",
    "    print(\"v1TH does not come from a normal distribution\")\n",
    "else:\n",
    "    print(\"v1TH may be normal\")\n",
    "\n",
    "k, p2 = normaltest(v2TH) # len(epiTH)\n",
    "\n",
    "if p2 < alpha:  # null hypothesis: x comes from a normal distribution\n",
    "    print(\"v2TH does not come from a normal distribution\")\n",
    "else:\n",
    "    print(\"v2TH may be normal\")\n"
   ]
  },
  {
   "cell_type": "code",
   "execution_count": 56,
   "metadata": {
    "scrolled": false
   },
   "outputs": [
    {
     "data": {
      "text/plain": [
       "<matplotlib.axes._subplots.AxesSubplot at 0x1497fbb0>"
      ]
     },
     "execution_count": 56,
     "metadata": {},
     "output_type": "execute_result"
    },
    {
     "data": {
      "image/png": "[encoded data removed]",
      "text/plain": [
       "<Figure size 1512x360 with 1 Axes>"
      ]
     },
     "metadata": {},
     "output_type": "display_data"
    },
    {
     "data": {
      "image/png": "[encoded data removed]",
      "text/plain": [
       "<Figure size 1512x360 with 1 Axes>"
      ]
     },
     "metadata": {},
     "output_type": "display_data"
    }
   ],
   "source": [
    "f,ax = plt.subplots(figsize=(21,5))\n",
    "binSize = np.arange(0, max(v1TH), 3)\n",
    "sns.distplot(v1TH,bins = binSize,kde = False)\n",
    "# ax[0].set_title('Epineural thresholds')\n",
    "\n",
    "binSize = np.arange(0, max(v2TH), 3)\n",
    "sns.distplot(v2TH,bins = binSize,kde = False)\n",
    "# ax[1].set_title('Penetrating thresholds')\n",
    "\n",
    "f,ax2 = plt.subplots(figsize=(21,5))\n",
    "binSize = np.arange(0, max(v1DR), 0.3)\n",
    "sns.distplot(v1DR,bins = binSize,kde = False)\n",
    "# ax2[0].set_title('v1 DR')\n",
    "\n",
    "binSize = np.arange(0, max(v2DR), 0.3)\n",
    "sns.distplot(v2DR,bins = binSize,kde = False)\n",
    "# ax2[1].set_title('v2 DR')"
   ]
  },
  {
   "cell_type": "code",
   "execution_count": 57,
   "metadata": {},
   "outputs": [
    {
     "name": "stdout",
     "output_type": "stream",
     "text": [
      "3.638489693157871e-05\n",
      "The difference between v1TH and v2TH is statistically significant\n"
     ]
    }
   ],
   "source": [
    "k, p5 = kruskal(v1TH, v2TH)\n",
    "print p5\n",
    "if p5 < alpha:\n",
    "    print(\"The difference between v1TH and v2TH is statistically significant\")\n",
    "else:\n",
    "    print(\"not significant\")"
   ]
  },
  {
   "cell_type": "code",
   "execution_count": 48,
   "metadata": {},
   "outputs": [
    {
     "name": "stdout",
     "output_type": "stream",
     "text": [
      "0.043704682620366614\n",
      "not significant\n"
     ]
    }
   ],
   "source": [
    "k, p5 = kruskal(v1DR, v2DR)\n",
    "print p5\n",
    "if p5 < alpha:\n",
    "    print(\"The difference between utahTH and FMATH is statistically significant\")\n",
    "else:\n",
    "    print(\"not significant\")"
   ]
  }
 ],
 "metadata": {
  "kernelspec": {
   "display_name": "Python 2",
   "language": "python",
   "name": "python2"
  },
  "language_info": {
   "codemirror_mode": {
    "name": "ipython",
    "version": 2
   },
   "file_extension": ".py",
   "mimetype": "text/x-python",
   "name": "python",
   "nbconvert_exporter": "python",
   "pygments_lexer": "ipython2",
   "version": "2.7.13"
  }
 },
 "nbformat": 4,
 "nbformat_minor": 2
}
