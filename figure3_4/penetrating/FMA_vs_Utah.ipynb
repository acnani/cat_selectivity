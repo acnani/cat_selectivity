{
 "cells": [
  {
   "cell_type": "markdown",
   "metadata": {},
   "source": [
    "# check for significance in FMA and Utah arrays for TH and DR"
   ]
  },
  {
   "cell_type": "code",
   "execution_count": 4,
   "metadata": {},
   "outputs": [],
   "source": [
    "import pandas as pd\n",
    "from scipy.stats import ttest_ind\n",
    "from scipy.stats import kruskal\n",
    "from scipy.stats import normaltest\n",
    "import numpy as np\n",
    "import seaborn as sns\n",
    "import matplotlib.pyplot as plt\n",
    "from scikit_posthocs import posthoc_dunn, posthoc_conover\n",
    "plt.rcParams['svg.fonttype'] = 'none'\n",
    "\n",
    "# epineuralDF = pd.read_csv(\"epineural\\\\selectiveDF.csv\")\n",
    "# epineuralDF.loc[epineuralDF['binarySearchRes']==0.4,'binarySearchRes'] = 0.41\n",
    "# epiTH = epineuralDF['Threshold (nC)']\n",
    "# epiDR = epineuralDF['Dynamic Range (nC)']\n",
    "\n",
    "\n",
    "penetratingDF = pd.read_csv(\"selectiveDF.csv\")\n",
    "penTH = penetratingDF['Threshold (nC)']\n",
    "penDR = penetratingDF['Dynamic Range (nC)']"
   ]
  },
  {
   "cell_type": "code",
   "execution_count": 12,
   "metadata": {
    "scrolled": false
   },
   "outputs": [],
   "source": [
    "utahTH = penetratingDF[(penetratingDF['subject'] == 'Galactus') | (penetratingDF['subject'] == 'Hobgoblin')]['Threshold (nC)']\n",
    "FMATH = penetratingDF[(penetratingDF['subject'] == 'Electro') | (penetratingDF['subject'] == 'Freeze')]['Threshold (nC)']\n",
    "\n",
    "utahDR = penetratingDF[(penetratingDF['subject'] == 'Galactus') | (penetratingDF['subject'] == 'Hobgoblin')]['Dynamic Range (nC)']\n",
    "FMADR = penetratingDF[(penetratingDF['subject'] == 'Electro') | (penetratingDF['subject'] == 'Freeze')]['Dynamic Range (nC)']"
   ]
  },
  {
   "cell_type": "code",
   "execution_count": 14,
   "metadata": {},
   "outputs": [
    {
     "name": "stdout",
     "output_type": "stream",
     "text": [
      "utahTH does not come from a normal distribution\n",
      "FMATH does not come from a normal distribution\n"
     ]
    }
   ],
   "source": [
    "# threshold normality\n",
    "alpha = 0.01\n",
    "k, p1 = normaltest(utahTH) # len(penTH)\n",
    "\n",
    "if p1 < alpha:  # null hypothesis: x comes from a normal distribution\n",
    "    print(\"utahTH does not come from a normal distribution\")\n",
    "else:\n",
    "    print(\"utahTH may be normal\")\n",
    "\n",
    "k, p2 = normaltest(FMATH) # len(epiTH)\n",
    "\n",
    "if p2 < alpha:  # null hypothesis: x comes from a normal distribution\n",
    "    print(\"FMATH does not come from a normal distribution\")\n",
    "else:\n",
    "    print(\"FMATH may be normal\")\n"
   ]
  },
  {
   "cell_type": "code",
   "execution_count": 15,
   "metadata": {},
   "outputs": [
    {
     "name": "stdout",
     "output_type": "stream",
     "text": [
      "penDR does not come from a normal distribution\n",
      "epiDR does not come from a normal distribution\n"
     ]
    }
   ],
   "source": [
    "# dynamic range normality'\n",
    "k, p3 = normaltest(utahDR) # len(penTH)\n",
    "\n",
    "if p3 < alpha:  # null hypothesis: x comes from a normal distribution\n",
    "    print(\"penDR does not come from a normal distribution\")\n",
    "else:\n",
    "    print(\"penDR may be normal\")\n",
    "\n",
    "k, p4 = normaltest(FMADR) # len(epiTH)\n",
    "\n",
    "if p4 < alpha:  # null hypothesis: x comes from a normal distribution\n",
    "    print(\"epiDR does not come from a normal distribution\")\n",
    "else:\n",
    "    print(\"epiDR may be normal\")"
   ]
  },
  {
   "cell_type": "code",
   "execution_count": 22,
   "metadata": {},
   "outputs": [
    {
     "data": {
      "text/plain": [
       "<matplotlib.axes._subplots.AxesSubplot at 0x1506e030>"
      ]
     },
     "execution_count": 22,
     "metadata": {},
     "output_type": "execute_result"
    },
    {
     "data": {
      "image/png": "[encoded data removed]",
      "text/plain": [
       "<Figure size 1512x360 with 1 Axes>"
      ]
     },
     "metadata": {},
     "output_type": "display_data"
    },
    {
     "data": {
      "image/png": "[encoded data removed]",
      "text/plain": [
       "<Figure size 1512x360 with 1 Axes>"
      ]
     },
     "metadata": {},
     "output_type": "display_data"
    }
   ],
   "source": [
    "f,ax = plt.subplots(figsize=(21,5))\n",
    "binSize = np.arange(0, max(utahTH), .3)\n",
    "sns.distplot(utahTH,bins = binSize,kde = False)\n",
    "# ax[0].set_title('Epineural thresholds')\n",
    "\n",
    "binSize = np.arange(0, max(FMATH), .3)\n",
    "sns.distplot(FMATH,bins = binSize,kde = False)\n",
    "# ax[1].set_title('Penetrating thresholds')\n",
    "\n",
    "f,ax2 = plt.subplots(figsize=(21,5))\n",
    "binSize = np.arange(0, max(utahDR), 0.3)\n",
    "sns.distplot(utahDR,bins = binSize,kde = False)\n",
    "# ax2[0].set_title('v1 DR')\n",
    "\n",
    "binSize = np.arange(0, max(FMADR), 0.3)\n",
    "sns.distplot(FMADR,bins = binSize,kde = False)\n",
    "# ax2[1].set_title('v2 DR')"
   ]
  },
  {
   "cell_type": "code",
   "execution_count": 23,
   "metadata": {},
   "outputs": [
    {
     "name": "stdout",
     "output_type": "stream",
     "text": [
      "The difference between utahTH and FMATH is statistically significant\n"
     ]
    }
   ],
   "source": [
    "k, p5 = kruskal(utahTH, FMATH)\n",
    "if p5 < alpha:\n",
    "    print(\"The difference between utahTH and FMATH is statistically significant\")\n",
    "else:\n",
    "    print(\"not significant\")"
   ]
  },
  {
   "cell_type": "code",
   "execution_count": 24,
   "metadata": {},
   "outputs": [
    {
     "name": "stdout",
     "output_type": "stream",
     "text": [
      "not significant\n"
     ]
    }
   ],
   "source": [
    "k, p5 = kruskal(utahDR, FMADR)\n",
    "if p5 < alpha:\n",
    "    print(\"The difference between utahTH and FMATH is statistically significant\")\n",
    "else:\n",
    "    print(\"not significant\")"
   ]
  }
 ],
 "metadata": {
  "kernelspec": {
   "display_name": "Python 2",
   "language": "python",
   "name": "python2"
  },
  "language_info": {
   "codemirror_mode": {
    "name": "ipython",
    "version": 2
   },
   "file_extension": ".py",
   "mimetype": "text/x-python",
   "name": "python",
   "nbconvert_exporter": "python",
   "pygments_lexer": "ipython2",
   "version": "2.7.13"
  }
 },
 "nbformat": 4,
 "nbformat_minor": 2
}
